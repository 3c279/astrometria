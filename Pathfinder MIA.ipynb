{
 "cells": [
  {
   "cell_type": "code",
   "execution_count": 2,
   "id": "f01f994a",
   "metadata": {},
   "outputs": [],
   "source": [
    "# --------------------------------------------       Pathfinder MIA       -----------------------------------------"
   ]
  },
  {
   "cell_type": "code",
   "execution_count": 1,
   "id": "96ebe92b",
   "metadata": {},
   "outputs": [],
   "source": [
    "# Timpo de integración para Pathfinder MIA \n",
    "\n",
    "# 1 - SEFD \n",
    "# 2 - Relación SNR y S-min\n",
    "# 3 - Densidad de flujo de la fuente y temperatura de brillo"
   ]
  },
  {
   "cell_type": "code",
   "execution_count": 2,
   "id": "f828ba39",
   "metadata": {},
   "outputs": [],
   "source": [
    "import numpy as np\n",
    "import matplotlib.pyplot as plt\n",
    "import scipy as scy"
   ]
  },
  {
   "cell_type": "code",
   "execution_count": 3,
   "id": "d8d18fcb",
   "metadata": {},
   "outputs": [
    {
     "name": "stdout",
     "output_type": "stream",
     "text": [
      "1.380649e-23 j/k\n"
     ]
    }
   ],
   "source": [
    "#  Constante de Boltzmann\n",
    "#  Valores de k   \tUnidades\n",
    "#  1.380 649 × 10 −23\tJ/K\n",
    "#  8,617 333 262 145 × 10 −5\teV/K\n",
    "#  1.380 649 × 10 −16\tergio/ K \n",
    "\n",
    "\n",
    "from scipy.constants import Boltzmann\n",
    "print(Boltzmann,'j/k')\n"
   ]
  },
  {
   "cell_type": "code",
   "execution_count": 4,
   "id": "c99ff035",
   "metadata": {},
   "outputs": [],
   "source": [
    "# .................................................   1    SEFD     ................................................"
   ]
  },
  {
   "cell_type": "code",
   "execution_count": 5,
   "id": "e0849fdf",
   "metadata": {},
   "outputs": [],
   "source": [
    "# Temperatura del sistema en grados Kelvin, antena MIA \n",
    "\n",
    "Tsys= 75 # Temperatura del sistema en grados Kelvin"
   ]
  },
  {
   "cell_type": "code",
   "execution_count": 6,
   "id": "55a61d9e",
   "metadata": {},
   "outputs": [
    {
     "name": "stdout",
     "output_type": "stream",
     "text": [
      "13.744467859455344 m2\n"
     ]
    }
   ],
   "source": [
    "# Area efectiva\n",
    "from scipy.constants import pi\n",
    "\n",
    "η = 0.7           # eficiencia de apertura \n",
    "D = 5             # diametro geometrico de una antena en metros (m)\n",
    "Ag= pi*((D)**2)/4   # area gemetrica de una antena en metros cuadrados \n",
    "A = η*Ag          # Area efectiva en metros cuadrados \n",
    "print (A,'m2')"
   ]
  },
  {
   "cell_type": "code",
   "execution_count": 7,
   "id": "e4f4d825",
   "metadata": {},
   "outputs": [
    {
     "name": "stdout",
     "output_type": "stream",
     "text": [
      "1506.7687750277637 jy\n"
     ]
    }
   ],
   "source": [
    "#   System equivalent flux density (Jy) -  sencibilidad del sistema\n",
    "\n",
    "# Algunos ejemplos para tener en cuenta :\n",
    "#  --------------------------------------------------------------------------------------------------------------------------------------------------------\n",
    "#- SEFD is the system equivalent flux density (Jy), defined as the flux density of a radio source that doubles the system temperature. \n",
    "#- Lower values of the SEFD indicate more sensitive performance. For the VLA's 25–meter paraboloids, the SEFD is given by the equation SEFD = 5.62Tsys/ηA, \n",
    "#- where Tsys is the total system temperature (receiver plus antenna plus sky), and ηA is the antenna aperture efficiency in the given band.\n",
    "\n",
    "# for a 6-metre ATA telescope is ~ 6000 Jy. At the other end of the scale, the Arecibo telescope has an SEFD of 3Jy\n",
    "# ---------------------------------------------------------------------------------------------------------------------------------------------------------\n",
    "\n",
    "#   SEFD  para MIA, en unidades jy , conversion a  10e-26 W/m2/Hz \n",
    "#   OBSERVACION :  usamos 10 e- o  1e-\n",
    "#   nJy = 10-9 Jy\n",
    "#   μJy = 10-6 Jy\n",
    "#   mJy = 10-3 Jy\n",
    "#   kJy = 103 Jy\n",
    "\n",
    "# 1 Jy en ...\t... es igual a ...\n",
    "#   SI units\t   10−26 W⋅m−2⋅Hz−1\n",
    "#   CGS units\t   10−23 erg⋅s−1⋅cm−2⋅Hz−1\n",
    "\n",
    "\n",
    "SEFD= ( (2*(Boltzmann)*Tsys)/ A )/ (10e-26 )  \n",
    "\n",
    "print(SEFD, 'jy') "
   ]
  },
  {
   "cell_type": "code",
   "execution_count": 8,
   "id": "2b20ae79",
   "metadata": {},
   "outputs": [
    {
     "name": "stdout",
     "output_type": "stream",
     "text": [
      "9.488142902844581e-23\n"
     ]
    }
   ],
   "source": [
    "# Degree per Flux Unit  DPFU \n",
    "# Que indica la respuesta en términos de la temperatura de la antena en Kelvins\n",
    "\n",
    "# Un área efectiva más grande del radio telescopio le permite recolectar más radiación de la\n",
    "# fuente y por lo tanto produce una mayor respuesta del radio telescopio, que aparece como una mayor\n",
    "# temperatura de la antena Una  ganancia grande significa que incluso una fuente débil con una pequeña densidad de flujo\n",
    "# producirá una temperatura de antena medible.\n",
    "\n",
    "\n",
    "DPFU= A/2*(Boltzmann)\n",
    "print(DPFU)\n"
   ]
  },
  {
   "cell_type": "code",
   "execution_count": 9,
   "id": "8829296a",
   "metadata": {},
   "outputs": [],
   "source": [
    "# --------------------------------------------  2    SNR y S-min   ----------------------------------------------------"
   ]
  },
  {
   "cell_type": "code",
   "execution_count": 10,
   "id": "20fa443c",
   "metadata": {},
   "outputs": [],
   "source": [
    "#                         Simulación para obtener el minimo de densidad de flujo detectable\n",
    "\n",
    "# parametros a utilizar\n",
    "\n",
    "SNR = 5       # señal - ruido\n",
    "T=  3600      # tiempo de integracion en segundos\n",
    "v=  250000000         # Ancho de banda [Hz]"
   ]
  },
  {
   "cell_type": "code",
   "execution_count": 11,
   "id": "2acfff99",
   "metadata": {},
   "outputs": [
    {
     "name": "stdout",
     "output_type": "stream",
     "text": [
      "45.0\n"
     ]
    }
   ],
   "source": [
    "# Número de pares de antenas, podemos usar de 3 - 16\n",
    "N=10\n",
    "P= N*(N-1)/2\n",
    "print(P)"
   ]
  },
  {
   "cell_type": "code",
   "execution_count": 12,
   "id": "c4616f8f",
   "metadata": {},
   "outputs": [
    {
     "name": "stdout",
     "output_type": "stream",
     "text": [
      "8.370937639043132e-29 W/m2/Hz\n",
      "0.0008370937639043132 Jy\n",
      "0.0008370937639043132 Jy\n"
     ]
    }
   ],
   "source": [
    "# flujo S-rms,   el minimo detectable  de densidad de flujo - o sea, nivel de ruido rms\n",
    "# conciderando la temperatura del sistema, el tiempo de int, el ancho de banda\n",
    "\n",
    "\n",
    "ΔS= ((2*(Boltzmann)*Tsys)/(A*(2*P*T*v)**(1/2)))*(SNR)                   # unidades [W/m2/Hz]\n",
    "print(ΔS,'W/m2/Hz')\n",
    "\n",
    "ΔSj= ((2*(Boltzmann)*Tsys)/(A*(2*P*T*v)**(1/2)))*(SNR)/(10e-26 )        # unidades [Jy]\n",
    "print (ΔSj,'Jy')\n",
    "\n",
    "\n",
    "# usando SEDF\n",
    "\n",
    "Δs= (SEFD/ (N*(N-1)*T*v)**(1/2))*(SNR)\n",
    "print(Δs,'Jy')\n"
   ]
  },
  {
   "cell_type": "code",
   "execution_count": 13,
   "id": "f9114fe2",
   "metadata": {},
   "outputs": [],
   "source": [
    "# tiempo de integracion  utilizando el MINIMO detectable ΔS"
   ]
  },
  {
   "cell_type": "code",
   "execution_count": 14,
   "id": "b82d7815",
   "metadata": {},
   "outputs": [
    {
     "name": "stdout",
     "output_type": "stream",
     "text": [
      "3600.0 s\n"
     ]
    }
   ],
   "source": [
    "# este es el tiempo de integracion  utilizando una SNR, ΔS y el número de antenas que se uso anteriormente.\n",
    "\n",
    "t = ((2*(Boltzmann)*Tsys*(SNR)/(A*ΔS) )**(2))/ (N*(N-1)*v)\n",
    "print(t,'s')"
   ]
  },
  {
   "cell_type": "code",
   "execution_count": 15,
   "id": "a846f975",
   "metadata": {},
   "outputs": [],
   "source": [
    "#------------------------------ 3   DENSIDAD DE FLUJO DE LA FUENTE Y TEMPERATURA DE BRILLO      --------------------------"
   ]
  },
  {
   "cell_type": "code",
   "execution_count": 21,
   "id": "70a09523",
   "metadata": {},
   "outputs": [
    {
     "name": "stdout",
     "output_type": "stream",
     "text": [
      "299792458.0 m/s = velocidad de la luz \n",
      "12  = z\n",
      "1427583133.3333335 Hz = frecuencia de emision \n",
      "2.73 m = longitud de onda observada\n",
      "109814087.1794872 Hz = frecuencia de observacion\n",
      "109.23076923076923 MHz\n",
      "109230769.23076923 Hz\n"
     ]
    }
   ],
   "source": [
    "# ----------------------------------------    Resolución del interferometro MIA    -------------------------------------\n",
    "\n",
    "# constante de velocidad de la luz \n",
    "\n",
    "from scipy.constants import speed_of_light\n",
    "print(speed_of_light,'m/s = velocidad de la luz ')\n",
    "\n",
    "\n",
    "# primero defino la longitud de onda y frecuencia de observacion:\n",
    "\n",
    "\n",
    "# longitud de onda observada ---------------------------------------------------------------------------\n",
    "\n",
    "Le = 0.21              # longitud de onda emitida  [m]\n",
    "z = 12                 # Redshift\n",
    "print(z,' = z')\n",
    "\n",
    "\n",
    "Ve = (speed_of_light)/Le   # frecuencia de emision \n",
    "print(Ve,'Hz = frecuencia de emision ')\n",
    "\n",
    "\n",
    "Lo = ( 1 + z )*Le      # Longitud de onda observada [m]\n",
    "print (Lo,'m = longitud de onda observada')\n",
    "\n",
    "\n",
    "#frecuencia de observación  ----------------------------------------------------------------------------\n",
    "\n",
    "\n",
    "Vo = Ve/(1+z)\n",
    "print(Vo,'Hz = frecuencia de observacion')\n",
    "\n",
    "\n",
    "#frecuencia de observación HI ----------------------------------------------------------------------------\n",
    " \n",
    "V = 1420 /(1+z)    # Frec de observacion en [MHz]\n",
    "print(V,'MHz')\n",
    "\n",
    "Vhz = V*1000000 \n",
    "print(Vhz,'Hz')"
   ]
  },
  {
   "cell_type": "code",
   "execution_count": 22,
   "id": "acecb1da",
   "metadata": {},
   "outputs": [
    {
     "name": "stdout",
     "output_type": "stream",
     "text": [
      "6.6612e-05 rad   = Θ maximo\n",
      "13.739724180000001 arcoseg =  Θ maximo \n",
      "0.083265 rad =  Θ minimo \n",
      "17174.655225000002 arcoseg =  Θ minimo\n",
      "5.46e-05 rad\n",
      "0.06825 rad\n"
     ]
    }
   ],
   "source": [
    "# Entonces tenemos  para  theta_max < theta < theta_min.\n",
    "\n",
    "# Sean las lineas de base siguientes:\n",
    "\n",
    "bmax = 50000    # baseline  max en metros [m]\n",
    "bmin = 40       # baseline  min  no sabemos cuanto es la minima distancia entre las antenas, pero supongamos que es x [m]\n",
    "\n",
    "\n",
    "\n",
    "# RESOLUCION --------------------------------------------------------------------------------------------\n",
    "\n",
    "# Resolucion utilizando la maxima distacia de linea de base .............................................\n",
    "\n",
    "theta_max = 1.22* Lo/bmax                        # en radianes\n",
    "print(theta_max,'rad   = Θ maximo')\n",
    "\n",
    "\n",
    "theta_max_arc = (1.22* Lo/bmax)*206265           # en arcoseg\n",
    "\n",
    "print(theta_max_arc,'arcoseg =  Θ maximo ')\n",
    "\n",
    "\n",
    "# Resolucion utilizando la minima  distacia de linea de base ............................................\n",
    "\n",
    "theta_min = 1.22* Lo/bmin                        # en radianes\n",
    "print(theta_min,'rad =  Θ minimo ')\n",
    "\n",
    "\n",
    "theta_max_arc = (1.22* Lo/bmin)*206265           # en arcoseg\n",
    "\n",
    "print(theta_max_arc,'arcoseg =  Θ minimo')\n",
    "\n",
    "\n",
    "\n",
    "# entonces    theta_max < theta < theta_min. -------------------------------------------------------------\n",
    "# aproximadamente podemos decir  Θ-maximo < Θ < Θ minimo\n",
    "\n",
    "theta_max_b= Lo/bmax\n",
    "print(theta_max_b,'rad') \n",
    "#print ( theta_max*206264.8062471,'arcseg' )\n",
    "\n",
    "theta_min_b = Lo /bmin\n",
    "print(theta_min_b,'rad')\n",
    "#print ( theta_min*206264.8062471,'arcseg' )\n"
   ]
  },
  {
   "cell_type": "code",
   "execution_count": 23,
   "id": "4a113d7e",
   "metadata": {},
   "outputs": [],
   "source": [
    "# -----------------------------------          FUENTE DE OBSERVACION            ----------------------------------------"
   ]
  },
  {
   "cell_type": "code",
   "execution_count": 24,
   "id": "daeb29ca",
   "metadata": {},
   "outputs": [
    {
     "name": "stdout",
     "output_type": "stream",
     "text": [
      "6.62607015e-34 js\n"
     ]
    }
   ],
   "source": [
    "# constante de planck\n",
    "\n",
    "from scipy.constants import h\n",
    "print(h,'js')\n"
   ]
  },
  {
   "cell_type": "code",
   "execution_count": 25,
   "id": "cdc041da",
   "metadata": {},
   "outputs": [
    {
     "name": "stdout",
     "output_type": "stream",
     "text": [
      "12 = z\n",
      "35.438 K = Tcmb \n"
     ]
    }
   ],
   "source": [
    "# Temperatura - CMB\n",
    "\n",
    "To = 2.726  # en grados K\n",
    "\n",
    "Tcmb = (1+z)*To\n",
    "print(z,'= z')\n",
    "print(Tcmb,'K = Tcmb ')"
   ]
  },
  {
   "cell_type": "code",
   "execution_count": 26,
   "id": "70d98dc1",
   "metadata": {},
   "outputs": [
    {
     "name": "stdout",
     "output_type": "stream",
     "text": [
      "35.10289710289711 K\n"
     ]
    }
   ],
   "source": [
    "# Temperatura de spin observacional\n",
    "\n",
    "Tk = 300  # en grados K\n",
    "Yc= 0.001 # Estos valores varian dependeiendo de la densidad,  \n",
    "          # ver paper : Shapiro - THE 21 cm BACKGROUND FROM THE COSMIC DARK AGES: MINIHALOS AND THE INTERGALACTIC MEDIUM BEFORE REIONIZATION  \n",
    "          # y el paper: GEORGE B. FIELD - Excitation of the Hydrogen 21-CM Line\n",
    "\n",
    "# entonces una aproximacion teorica o esperariamos tener:\n",
    "\n",
    "Ts_t = ( Tcmb - Yc*Tk )/ (1+Yc)\n",
    "print(Ts_t,'K')"
   ]
  },
  {
   "cell_type": "code",
   "execution_count": 27,
   "id": "61847826",
   "metadata": {},
   "outputs": [
    {
     "name": "stdout",
     "output_type": "stream",
     "text": [
      "12 = z\n",
      "0.022882767785968122 K = ΔTb\n"
     ]
    }
   ],
   "source": [
    "# Temeratura de brillo diferencial ( differential brightness temperature  - DBT )\n",
    "\n",
    "# Aproximadamente la temperatura de brillo de los atomos de H, utilizando la Tcmb\n",
    "# y usando que : \n",
    "# Ωmh**2 = 0.134 ± 0.006\n",
    "# Ωbh**2 = 0.023 ± 0.001\n",
    "\n",
    "# Ts = 30   para delta = 0 y z=15\n",
    "\n",
    "\n",
    "Ts = 30   # Grados K, aproximadamente\n",
    "\n",
    "ΔTb = 0.025 + 0.025*((0.023)/0.023)*(0.15/(0.134)**(1/2))* (((1+z) /10)**(1/2))*( 1 - Tcmb/Ts)\n",
    "\n",
    "\n",
    "print(z,'= z')\n",
    "\n",
    "print (ΔTb,'K = ΔTb')\n",
    "\n",
    "# ................................................................................................\n",
    "\n",
    "\n",
    "#ΔTb = 0.025*((0.023)/0.023)*(0.15/(0.134)**(1/2))* (((1+z) /10)**(1/2))*( 1 - Tcmb/Ts)\n",
    "\n",
    "#print (ΔTb,'K = ΔTb')\n",
    "\n"
   ]
  },
  {
   "cell_type": "code",
   "execution_count": 28,
   "id": "e02a83a2",
   "metadata": {},
   "outputs": [
    {
     "name": "stdout",
     "output_type": "stream",
     "text": [
      "12 = z\n",
      "35.73547598121759 K = Tb\n"
     ]
    }
   ],
   "source": [
    "#   Ahora como  ΔTb(z) = (Tb(z) - Tcmb(z)) / (1 + z)\n",
    "#   donde:\n",
    "#         Tb(z) = es la temperatura de spin, o sea la temperatura de mi fuente\n",
    "#         Tcmb(z) es la temperatura del CMB\n",
    "#         z =  redshift que se definio anteriormente\n",
    "#\n",
    "#         Entonces despejando Tb(z) de la ecuacion anterior, tenemos Tb(z) = (1 + z)ΔTb(z) + Tcmb(z)\n",
    "\n",
    "Tb = (1 + z)*(ΔTb) + Tcmb\n",
    "print(z,'= z')\n",
    "print(Tb,'K = Tb')\n"
   ]
  },
  {
   "cell_type": "code",
   "execution_count": 29,
   "id": "2c3a75de",
   "metadata": {},
   "outputs": [
    {
     "name": "stdout",
     "output_type": "stream",
     "text": [
      "7.730685674609367e-31 W/m2/Hz\n",
      "7.730685674609366e-06 jy maxima linea de base\n",
      "1.2079196366577134e-24 W/m2/Hz \n",
      "12.079196366577133 jy  minima linea de base\n"
     ]
    }
   ],
   "source": [
    "#  densidad de flujo de la fuente, pero tenemos que conocer la temperatura de brillo y las distancias de las lineas de base\n",
    "\n",
    "# utilizando la maxima linea de base   ------------------------------------------------------------\n",
    "\n",
    "Sv_max =((2*(Boltzmann)*Tb*(Vhz)**2 ) *( 1.33*(theta_max)**2 ))/ (speed_of_light)**2 \n",
    "\n",
    "print(Sv_max,'W/m2/Hz')\n",
    "\n",
    "\n",
    "Sv_maxj =(((2*(Boltzmann)*Tb*(Vhz)**2 ) *( 1.33*(theta_max)**2 ))/ (speed_of_light)**2 )/(10e-26 )\n",
    "print(Sv_maxj,'jy maxima linea de base')\n",
    "\n",
    "\n",
    "# utilizando la minima linea de base---------------------------- -----------------------------------\n",
    "\n",
    "\n",
    "Sv_min =((2*(Boltzmann)*Tb*(Vhz)**2 ) *( 1.33*(theta_min )**2 ))/ (speed_of_light)**2 \n",
    "\n",
    "print(Sv_min,'W/m2/Hz ')\n",
    "\n",
    "\n",
    "Sv_minj =(((2*(Boltzmann)*Tb*(Vhz)**2 ) *( 1.33*(theta_min )**2 ))/ (speed_of_light)**2 )/(10e-26 )\n",
    "print(Sv_minj,'jy  minima linea de base')\n",
    "\n",
    "\n"
   ]
  },
  {
   "cell_type": "code",
   "execution_count": 31,
   "id": "54c0eb60",
   "metadata": {
    "scrolled": true
   },
   "outputs": [
    {
     "name": "stdout",
     "output_type": "stream",
     "text": [
      "6.345947933979873e-31 W/m2/Hz\n",
      "6.345947933979872e-06 jy maxima linea de base\n",
      "9.91554364684355e-25 W/m2/Hz\n",
      "9.915543646843549 jy  minima linea de base\n"
     ]
    }
   ],
   "source": [
    "# esta SECCION es para cualquier otro objeto...\n",
    "# --------------------------------------------------------------------------------------------------------------------------\n",
    "#  densidad de flujo de la fuente, pero tenemos que conocer la temperatura de brillo y las distancias de las lineas de base\n",
    "\n",
    "# utilizando la maxima linea de base   ------------------------------------------------------------\n",
    "\n",
    "Tobj = 35\n",
    "\n",
    "Vf=100000000   # frecuencia de observacion\n",
    "\n",
    "Sv_max =((2*(Boltzmann)*Tobj*(Vf)**2 )*( 1.33*(theta_max)**2 ))/ (speed_of_light)**2 \n",
    "\n",
    "print(Sv_max,'W/m2/Hz')\n",
    "\n",
    "\n",
    "Sv_maxj =(((2*(Boltzmann)*Tobj*(Vf)**2 )*( 1.33*(theta_max)**2 ))/ (speed_of_light)**2 )/(10e-26 )\n",
    "print(Sv_maxj,'jy maxima linea de base')\n",
    "\n",
    "\n",
    "# utilizando la minima linea de base---------------------------- -----------------------------------\n",
    "\n",
    "\n",
    "Sv_min =((2*(Boltzmann)*Tobj*(Vf)**2 )*( 1.33*(theta_min )**2 ))/ (speed_of_light)**2 \n",
    "\n",
    "print(Sv_min,'W/m2/Hz')  \n",
    "\n",
    "\n",
    "Sv_minj =(((2*(Boltzmann)*Tobj*(Vf)**2 )*( 1.33*(theta_min )**2 ))/ (speed_of_light)**2 )/(10e-26 )\n",
    "print(Sv_minj,'jy  minima linea de base')\n"
   ]
  },
  {
   "cell_type": "code",
   "execution_count": 32,
   "id": "e64984d4",
   "metadata": {},
   "outputs": [],
   "source": [
    "# .......................................   Calculo del tiempo de integración   ................................"
   ]
  },
  {
   "cell_type": "code",
   "execution_count": 33,
   "id": "573e9f52",
   "metadata": {},
   "outputs": [],
   "source": [
    "#  Brillo de la fuente, aproximacion de Rayleigh–Jeans \n",
    "\n",
    "#Bv= (2*(Boltzmann)*Tb)/ (Lo)\n",
    "\n",
    "##print(Bv,'W/m2/Hz')\n",
    "#print(Bv/(10e-26),'jy' )\n",
    "\n",
    "\n",
    "\n",
    "# EN CASO DE USAR CUALQUIR FUENTE \n",
    "\n",
    "#Tbc = 350\n",
    "#Bv= (2*(Boltzmann)*Tbc)/ (Lo)\n",
    "\n",
    "#print(Bv,'W/m2/Hz')\n",
    "#print(Bv/(10e-26),'jy' )    \n"
   ]
  },
  {
   "cell_type": "code",
   "execution_count": 34,
   "id": "6c7bd7d5",
   "metadata": {},
   "outputs": [],
   "source": [
    "# parametros \n",
    "\n",
    "# Se considera el mejor flujo detectable, de acuerdo a la configuracion del Array\n",
    "\n",
    "#Sv= 7.611958578571264e-29  \n",
    "#Δv_P= 250000000   # ancho de banda en [Hz]\n"
   ]
  },
  {
   "cell_type": "code",
   "execution_count": 35,
   "id": "56dda6ce",
   "metadata": {},
   "outputs": [],
   "source": [
    "# tin = ((2*(Boltzmann)*Tsys*(SNR)/(A*Sv) )**(2))/ (N*(N-1)*Δv)\n",
    "# print(tin,'s')\n",
    "\n",
    "#print( tin*(1/60),'min')\n",
    "#print( tin*(1/60)*(1/60),'hs')\n",
    "#print( tin*(1/60)*(1/60)*(1/24),'dias')\n",
    "#print( tin*(1/60)*(1/60)*(1/24)*(1/30),'meses')"
   ]
  },
  {
   "cell_type": "code",
   "execution_count": null,
   "id": "82504974",
   "metadata": {},
   "outputs": [],
   "source": []
  },
  {
   "cell_type": "code",
   "execution_count": 36,
   "id": "a0b12444",
   "metadata": {},
   "outputs": [],
   "source": [
    "# Tobj = 350\n",
    "\n",
    "# Vf=5000000000   # frecuencia de observacion\n",
    "\n",
    " \n",
    "\n",
    "# Sv_maxj =(((2*(Boltzmann)*Tobj*(Vf)**2 )*(1.33*(theta_max)**2 ))/(speed_of_light)**2 )/(1e-26 )\n",
    "\n",
    "# print(Sv_maxj,'jy maxima linea de base')\n",
    "\n",
    "\n",
    "\n",
    "# Termino_1=(2*Boltzmann)*Tobj*(Vf)**2\n",
    "#print(Termino_1)  \n",
    "\n",
    "#  Termino_2=(theta_max)**2\n",
    "#print(Termino_2) \n",
    "\n",
    "# Termino_3 = (speed_of_light)**2\n",
    "#print(Termino_3) \n",
    "\n",
    "# Sv_max = (Termino_1*Termino_2)/Termino_3\n",
    "# print(Sv_max,'W/m2/Hz')\n",
    "# print(Sv_max/1e-26,'jy')"
   ]
  },
  {
   "cell_type": "code",
   "execution_count": 37,
   "id": "ee584bdb",
   "metadata": {},
   "outputs": [],
   "source": [
    "# def Sv_max(Tobj,Vf,theta_max):\n",
    "#    Sv_max =(((2*Boltzmann)*Tobj*(Vf)**2)*( 1.33*(theta_max)**2 ))/ ((300000000)**2) \n",
    "#    return(Sv_max)"
   ]
  },
  {
   "cell_type": "code",
   "execution_count": 38,
   "id": "03072328",
   "metadata": {},
   "outputs": [],
   "source": [
    "# parametros \n",
    "# Se considera el mejor flujo detectable, de acuerdo a la configuracion del Array\n",
    "\n",
    "# usar la densidad de flujo calculada anteriormente, elegir entre baseline max o min\n",
    "\n",
    "Sv=   1.902989644642816e-29   \n",
    "Δv_P= 1000000   # ancho de banda en [Hz]"
   ]
  },
  {
   "cell_type": "code",
   "execution_count": 39,
   "id": "869421c9",
   "metadata": {},
   "outputs": [
    {
     "ename": "NameError",
     "evalue": "name 'Δv' is not defined",
     "output_type": "error",
     "traceback": [
      "\u001b[1;31m---------------------------------------------------------------------------\u001b[0m",
      "\u001b[1;31mNameError\u001b[0m                                 Traceback (most recent call last)",
      "Cell \u001b[1;32mIn [39], line 3\u001b[0m\n\u001b[0;32m      1\u001b[0m \u001b[38;5;66;03m# tiempo de integracion\u001b[39;00m\n\u001b[1;32m----> 3\u001b[0m tin \u001b[38;5;241m=\u001b[39m ((\u001b[38;5;241m2\u001b[39m\u001b[38;5;241m*\u001b[39m(Boltzmann)\u001b[38;5;241m*\u001b[39mTsys\u001b[38;5;241m*\u001b[39m(SNR)\u001b[38;5;241m/\u001b[39m(A\u001b[38;5;241m*\u001b[39mSv) )\u001b[38;5;241m*\u001b[39m\u001b[38;5;241m*\u001b[39m(\u001b[38;5;241m2\u001b[39m))\u001b[38;5;241m/\u001b[39m (N\u001b[38;5;241m*\u001b[39m(N\u001b[38;5;241m-\u001b[39m\u001b[38;5;241m1\u001b[39m)\u001b[38;5;241m*\u001b[39m\u001b[43mΔv\u001b[49m)\n\u001b[0;32m      4\u001b[0m \u001b[38;5;28mprint\u001b[39m(tin,\u001b[38;5;124m'\u001b[39m\u001b[38;5;124ms\u001b[39m\u001b[38;5;124m'\u001b[39m)\n\u001b[0;32m      7\u001b[0m \u001b[38;5;28mprint\u001b[39m( tin\u001b[38;5;241m*\u001b[39m(\u001b[38;5;241m1\u001b[39m\u001b[38;5;241m/\u001b[39m\u001b[38;5;241m60\u001b[39m),\u001b[38;5;124m'\u001b[39m\u001b[38;5;124mmin\u001b[39m\u001b[38;5;124m'\u001b[39m)\n",
      "\u001b[1;31mNameError\u001b[0m: name 'Δv' is not defined"
     ]
    }
   ],
   "source": [
    "# tiempo de integracion\n",
    "\n",
    "tin = ((2*(Boltzmann)*Tsys*(SNR)/(A*Sv) )**(2))/ (N*(N-1)*Δv)\n",
    "print(tin,'s')\n",
    "\n",
    "\n",
    "print( tin*(1/60),'min')\n",
    "print( tin*(1/60)*(1/60),'hs')\n",
    "print( tin*(1/60)*(1/60)*(1/24),'dias')\n",
    "print( tin*(1/60)*(1/60)*(1/24)*(1/30),'meses')"
   ]
  },
  {
   "cell_type": "code",
   "execution_count": null,
   "id": "d0bd2aa8",
   "metadata": {},
   "outputs": [],
   "source": []
  },
  {
   "cell_type": "code",
   "execution_count": 497,
   "id": "4ba68c3a",
   "metadata": {},
   "outputs": [
    {
     "name": "stdout",
     "output_type": "stream",
     "text": [
      "1345 K\n"
     ]
    }
   ],
   "source": [
    "#  si utilizaramos las contribuciones del foreground, las distintas temperaturas de brillo se suman, incrementando la Tb que queremos observar\n",
    "\n",
    "# Si consideramos un redshif z = 17\n",
    "\n",
    "# contribucion del plano de la galaxia  \n",
    "Tb_gal = 1000 # en grados K\n",
    "\n",
    "# fuente extragalactica   \n",
    "Tb_ext = 300  # en grados K\n",
    "\n",
    "# accidentalmente concideramos la luna   \n",
    "Tb_l = 10     # en grados K\n",
    "\n",
    "# temeratura fe la fuente de interes \n",
    "Tb_obs = 35   # en grados k \n",
    "\n",
    "\n",
    "\n",
    "T_total = Tb_gal + Tb_ext + Tb_l + Tb_obs\n",
    "print (T_total,'K')\n",
    "\n"
   ]
  },
  {
   "cell_type": "code",
   "execution_count": null,
   "id": "c6242480",
   "metadata": {},
   "outputs": [],
   "source": []
  }
 ],
 "metadata": {
  "kernelspec": {
   "display_name": "Python 3 (ipykernel)",
   "language": "python",
   "name": "python3"
  },
  "language_info": {
   "codemirror_mode": {
    "name": "ipython",
    "version": 3
   },
   "file_extension": ".py",
   "mimetype": "text/x-python",
   "name": "python",
   "nbconvert_exporter": "python",
   "pygments_lexer": "ipython3",
   "version": "3.10.6"
  }
 },
 "nbformat": 4,
 "nbformat_minor": 5
}
